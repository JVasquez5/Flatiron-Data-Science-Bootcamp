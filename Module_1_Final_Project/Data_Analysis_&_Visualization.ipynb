{
 "cells": [
  {
   "cell_type": "markdown",
   "metadata": {},
   "source": [
    "## Final Project Submission\n",
    "\n",
    "Please fill out:\n",
    "* Student name: Jonathan Vasquez\n",
    "* Student pace: full time\n",
    "* Scheduled project review date/time: 05/29/2020\n",
    "* Instructor name: FangFang & Dan\n",
    "* Blog post URL: \n"
   ]
  },
  {
   "cell_type": "code",
   "execution_count": 1,
   "metadata": {},
   "outputs": [],
   "source": [
    "## Your code here - remember to use markdown cells for comments as well!"
   ]
  },
  {
   "cell_type": "markdown",
   "metadata": {},
   "source": [
    "# Data Visualization"
   ]
  },
  {
   "cell_type": "code",
   "execution_count": 2,
   "metadata": {},
   "outputs": [],
   "source": [
    "import csv #To access csv\n",
    "import pandas as pd \n",
    "import numpy as np\n",
    "import matplotlib.pyplot as plt # Data visualization\n",
    "import seaborn as sns # Data visualization"
   ]
  },
  {
   "cell_type": "code",
   "execution_count": 3,
   "metadata": {},
   "outputs": [
    {
     "data": {
      "text/html": [
       "<div>\n",
       "<style scoped>\n",
       "    .dataframe tbody tr th:only-of-type {\n",
       "        vertical-align: middle;\n",
       "    }\n",
       "\n",
       "    .dataframe tbody tr th {\n",
       "        vertical-align: top;\n",
       "    }\n",
       "\n",
       "    .dataframe thead th {\n",
       "        text-align: right;\n",
       "    }\n",
       "</style>\n",
       "<table border=\"1\" class=\"dataframe\">\n",
       "  <thead>\n",
       "    <tr style=\"text-align: right;\">\n",
       "      <th></th>\n",
       "      <th>Title</th>\n",
       "      <th>Worldwide_Lifetime_Gross</th>\n",
       "      <th>Domestic_Lifetime_Gross</th>\n",
       "      <th>Domestic_Percentage</th>\n",
       "      <th>Foreign_Lifetime_Gross</th>\n",
       "      <th>Foreign_Lifetime_Percentage</th>\n",
       "      <th>Year</th>\n",
       "      <th>IMDB_ID</th>\n",
       "      <th>Belongs_To_Collection</th>\n",
       "      <th>Budget</th>\n",
       "      <th>Genres</th>\n",
       "      <th>Original_Language</th>\n",
       "      <th>Popularity</th>\n",
       "      <th>Release_date</th>\n",
       "      <th>Runtime</th>\n",
       "      <th>Production_Company</th>\n",
       "    </tr>\n",
       "  </thead>\n",
       "  <tbody>\n",
       "    <tr>\n",
       "      <th>0</th>\n",
       "      <td>Avengers: Endgame</td>\n",
       "      <td>2797800564</td>\n",
       "      <td>858373000</td>\n",
       "      <td>30.7%</td>\n",
       "      <td>1939427564</td>\n",
       "      <td>69.3%</td>\n",
       "      <td>2019</td>\n",
       "      <td>tt4154796</td>\n",
       "      <td>86311</td>\n",
       "      <td>356000000</td>\n",
       "      <td>'Adventure'</td>\n",
       "      <td>en</td>\n",
       "      <td>41.244</td>\n",
       "      <td>2019-04-24</td>\n",
       "      <td>181.0</td>\n",
       "      <td>Marvel Studios</td>\n",
       "    </tr>\n",
       "    <tr>\n",
       "      <th>1</th>\n",
       "      <td>Avatar</td>\n",
       "      <td>2790439000</td>\n",
       "      <td>760507625</td>\n",
       "      <td>27.2%</td>\n",
       "      <td>2029931375</td>\n",
       "      <td>72.8%</td>\n",
       "      <td>2009</td>\n",
       "      <td>tt0499549</td>\n",
       "      <td>87096</td>\n",
       "      <td>237000000</td>\n",
       "      <td>'Action'</td>\n",
       "      <td>en</td>\n",
       "      <td>40.099</td>\n",
       "      <td>2009-12-10</td>\n",
       "      <td>162.0</td>\n",
       "      <td>Dune Entertainment</td>\n",
       "    </tr>\n",
       "    <tr>\n",
       "      <th>2</th>\n",
       "      <td>Titanic</td>\n",
       "      <td>2194439542</td>\n",
       "      <td>659363944</td>\n",
       "      <td>30%</td>\n",
       "      <td>1535075598</td>\n",
       "      <td>70%</td>\n",
       "      <td>1997</td>\n",
       "      <td>tt0120338</td>\n",
       "      <td>No Collection</td>\n",
       "      <td>200000000</td>\n",
       "      <td>'Drama'</td>\n",
       "      <td>en</td>\n",
       "      <td>33.658</td>\n",
       "      <td>1997-11-18</td>\n",
       "      <td>194.0</td>\n",
       "      <td>Paramount</td>\n",
       "    </tr>\n",
       "    <tr>\n",
       "      <th>3</th>\n",
       "      <td>Star Wars: Episode VII - The Force Awakens</td>\n",
       "      <td>2068223624</td>\n",
       "      <td>936662225</td>\n",
       "      <td>45.3%</td>\n",
       "      <td>1131561399</td>\n",
       "      <td>54.7%</td>\n",
       "      <td>2015</td>\n",
       "      <td>tt2488496</td>\n",
       "      <td>10</td>\n",
       "      <td>245000000</td>\n",
       "      <td>'Action'</td>\n",
       "      <td>en</td>\n",
       "      <td>40.452</td>\n",
       "      <td>2015-12-15</td>\n",
       "      <td>136.0</td>\n",
       "      <td>Truenorth Productions</td>\n",
       "    </tr>\n",
       "    <tr>\n",
       "      <th>4</th>\n",
       "      <td>Avengers: Infinity War</td>\n",
       "      <td>2048359754</td>\n",
       "      <td>678815482</td>\n",
       "      <td>33.1%</td>\n",
       "      <td>1369544272</td>\n",
       "      <td>66.9%</td>\n",
       "      <td>2018</td>\n",
       "      <td>tt4154756</td>\n",
       "      <td>86311</td>\n",
       "      <td>300000000</td>\n",
       "      <td>'Adventure'</td>\n",
       "      <td>en</td>\n",
       "      <td>66.376</td>\n",
       "      <td>2018-04-25</td>\n",
       "      <td>149.0</td>\n",
       "      <td>Marvel Studios</td>\n",
       "    </tr>\n",
       "    <tr>\n",
       "      <th>...</th>\n",
       "      <td>...</td>\n",
       "      <td>...</td>\n",
       "      <td>...</td>\n",
       "      <td>...</td>\n",
       "      <td>...</td>\n",
       "      <td>...</td>\n",
       "      <td>...</td>\n",
       "      <td>...</td>\n",
       "      <td>...</td>\n",
       "      <td>...</td>\n",
       "      <td>...</td>\n",
       "      <td>...</td>\n",
       "      <td>...</td>\n",
       "      <td>...</td>\n",
       "      <td>...</td>\n",
       "      <td>...</td>\n",
       "    </tr>\n",
       "    <tr>\n",
       "      <th>991</th>\n",
       "      <td>Magic Mike</td>\n",
       "      <td>167739368</td>\n",
       "      <td>113721571</td>\n",
       "      <td>67.8%</td>\n",
       "      <td>54017797</td>\n",
       "      <td>32.2%</td>\n",
       "      <td>2012</td>\n",
       "      <td>tt1915581</td>\n",
       "      <td>328247</td>\n",
       "      <td>7000000</td>\n",
       "      <td>'Drama'</td>\n",
       "      <td>en</td>\n",
       "      <td>11.871</td>\n",
       "      <td>2012-06-28</td>\n",
       "      <td>110.0</td>\n",
       "      <td>WR Universal</td>\n",
       "    </tr>\n",
       "    <tr>\n",
       "      <th>992</th>\n",
       "      <td>Alexander</td>\n",
       "      <td>167298192</td>\n",
       "      <td>34297191</td>\n",
       "      <td>20.5%</td>\n",
       "      <td>133001001</td>\n",
       "      <td>79.5%</td>\n",
       "      <td>2004</td>\n",
       "      <td>tt0346491</td>\n",
       "      <td>No Collection</td>\n",
       "      <td>155000000</td>\n",
       "      <td>'War'</td>\n",
       "      <td>en</td>\n",
       "      <td>21.080</td>\n",
       "      <td>2004-11-21</td>\n",
       "      <td>175.0</td>\n",
       "      <td>Right of</td>\n",
       "    </tr>\n",
       "    <tr>\n",
       "      <th>993</th>\n",
       "      <td>Up in the Air</td>\n",
       "      <td>166842739</td>\n",
       "      <td>83823381</td>\n",
       "      <td>50.2%</td>\n",
       "      <td>83019358</td>\n",
       "      <td>49.8%</td>\n",
       "      <td>2009</td>\n",
       "      <td>tt1193138</td>\n",
       "      <td>No Collection</td>\n",
       "      <td>25000000</td>\n",
       "      <td>'Drama'</td>\n",
       "      <td>en</td>\n",
       "      <td>14.904</td>\n",
       "      <td>2009-09-05</td>\n",
       "      <td>110.0</td>\n",
       "      <td>Universal Pictures</td>\n",
       "    </tr>\n",
       "    <tr>\n",
       "      <th>994</th>\n",
       "      <td>Nutty Professor II: The Klumps</td>\n",
       "      <td>166339890</td>\n",
       "      <td>123309890</td>\n",
       "      <td>74.1%</td>\n",
       "      <td>43030000</td>\n",
       "      <td>25.9%</td>\n",
       "      <td>2000</td>\n",
       "      <td>tt0144528</td>\n",
       "      <td>86028</td>\n",
       "      <td>84000000</td>\n",
       "      <td>'Fantasy'</td>\n",
       "      <td>en</td>\n",
       "      <td>12.950</td>\n",
       "      <td>2000-07-27</td>\n",
       "      <td>106.0</td>\n",
       "      <td>Propaganda Films</td>\n",
       "    </tr>\n",
       "    <tr>\n",
       "      <th>995</th>\n",
       "      <td>Sleepers</td>\n",
       "      <td>165615285</td>\n",
       "      <td>53315285</td>\n",
       "      <td>32.2%</td>\n",
       "      <td>112300000</td>\n",
       "      <td>67.8%</td>\n",
       "      <td>1996</td>\n",
       "      <td>tt0117665</td>\n",
       "      <td>No Collection</td>\n",
       "      <td>44000000</td>\n",
       "      <td>'Crime'</td>\n",
       "      <td>en</td>\n",
       "      <td>24.682</td>\n",
       "      <td>1996-10-18</td>\n",
       "      <td>147.0</td>\n",
       "      <td>Propaganda Films</td>\n",
       "    </tr>\n",
       "  </tbody>\n",
       "</table>\n",
       "<p>996 rows × 16 columns</p>\n",
       "</div>"
      ],
      "text/plain": [
       "                                          Title  Worldwide_Lifetime_Gross  \\\n",
       "0                             Avengers: Endgame                2797800564   \n",
       "1                                        Avatar                2790439000   \n",
       "2                                       Titanic                2194439542   \n",
       "3    Star Wars: Episode VII - The Force Awakens                2068223624   \n",
       "4                        Avengers: Infinity War                2048359754   \n",
       "..                                          ...                       ...   \n",
       "991                                  Magic Mike                 167739368   \n",
       "992                                   Alexander                 167298192   \n",
       "993                               Up in the Air                 166842739   \n",
       "994              Nutty Professor II: The Klumps                 166339890   \n",
       "995                                    Sleepers                 165615285   \n",
       "\n",
       "     Domestic_Lifetime_Gross Domestic_Percentage  Foreign_Lifetime_Gross  \\\n",
       "0                  858373000               30.7%              1939427564   \n",
       "1                  760507625               27.2%              2029931375   \n",
       "2                  659363944                 30%              1535075598   \n",
       "3                  936662225               45.3%              1131561399   \n",
       "4                  678815482               33.1%              1369544272   \n",
       "..                       ...                 ...                     ...   \n",
       "991                113721571               67.8%                54017797   \n",
       "992                 34297191               20.5%               133001001   \n",
       "993                 83823381               50.2%                83019358   \n",
       "994                123309890               74.1%                43030000   \n",
       "995                 53315285               32.2%               112300000   \n",
       "\n",
       "    Foreign_Lifetime_Percentage  Year    IMDB_ID Belongs_To_Collection  \\\n",
       "0                         69.3%  2019  tt4154796                 86311   \n",
       "1                         72.8%  2009  tt0499549                 87096   \n",
       "2                           70%  1997  tt0120338         No Collection   \n",
       "3                         54.7%  2015  tt2488496                    10   \n",
       "4                         66.9%  2018  tt4154756                 86311   \n",
       "..                          ...   ...        ...                   ...   \n",
       "991                       32.2%  2012  tt1915581                328247   \n",
       "992                       79.5%  2004  tt0346491         No Collection   \n",
       "993                       49.8%  2009  tt1193138         No Collection   \n",
       "994                       25.9%  2000  tt0144528                 86028   \n",
       "995                       67.8%  1996  tt0117665         No Collection   \n",
       "\n",
       "        Budget       Genres Original_Language  Popularity Release_date  \\\n",
       "0    356000000  'Adventure'                en      41.244   2019-04-24   \n",
       "1    237000000     'Action'                en      40.099   2009-12-10   \n",
       "2    200000000      'Drama'                en      33.658   1997-11-18   \n",
       "3    245000000     'Action'                en      40.452   2015-12-15   \n",
       "4    300000000  'Adventure'                en      66.376   2018-04-25   \n",
       "..         ...          ...               ...         ...          ...   \n",
       "991    7000000      'Drama'                en      11.871   2012-06-28   \n",
       "992  155000000        'War'                en      21.080   2004-11-21   \n",
       "993   25000000      'Drama'                en      14.904   2009-09-05   \n",
       "994   84000000    'Fantasy'                en      12.950   2000-07-27   \n",
       "995   44000000      'Crime'                en      24.682   1996-10-18   \n",
       "\n",
       "     Runtime     Production_Company  \n",
       "0      181.0         Marvel Studios  \n",
       "1      162.0     Dune Entertainment  \n",
       "2      194.0              Paramount  \n",
       "3      136.0  Truenorth Productions  \n",
       "4      149.0         Marvel Studios  \n",
       "..       ...                    ...  \n",
       "991    110.0           WR Universal  \n",
       "992    175.0               Right of  \n",
       "993    110.0     Universal Pictures  \n",
       "994    106.0       Propaganda Films  \n",
       "995    147.0       Propaganda Films  \n",
       "\n",
       "[996 rows x 16 columns]"
      ]
     },
     "execution_count": 3,
     "metadata": {},
     "output_type": "execute_result"
    }
   ],
   "source": [
    "df = pd.read_csv('clean_df.csv')\n",
    "df = df.drop('Unnamed: 0',axis=1) #Weird column appeared this time\n",
    "df"
   ]
  },
  {
   "cell_type": "code",
   "execution_count": 4,
   "metadata": {},
   "outputs": [
    {
     "data": {
      "text/plain": [
       "Walt Disney             64\n",
       "Universal Pictures      61\n",
       "Paramount               48\n",
       "Columbia Pictures       39\n",
       "DreamWorks Animation    28\n",
       "                        ..\n",
       "Chris Morgan             1\n",
       "Two Ton                  1\n",
       "Darren Star              1\n",
       "Penn Station             1\n",
       "Strong Heart/Demme       1\n",
       "Name: Production_Company, Length: 371, dtype: int64"
      ]
     },
     "execution_count": 4,
     "metadata": {},
     "output_type": "execute_result"
    }
   ],
   "source": [
    "df['Production_Company'].value_counts() #Counting number of films per Production Company"
   ]
  },
  {
   "cell_type": "code",
   "execution_count": 5,
   "metadata": {},
   "outputs": [
    {
     "data": {
      "text/plain": [
       "array(['Marvel Studios', 'Dune Entertainment', 'Paramount',\n",
       "       'Truenorth Productions', 'Fuji Television', 'Walt Disney',\n",
       "       'Abu Dhabi', 'Warner Bros.', 'Lucasfilm', 'Amblin Entertainment',\n",
       "       'Universal Pictures', 'Illumination Entertainment', 'DC Comics',\n",
       "       'New Line', 'Hasbro Studios', 'Danjaq', 'Syncopy',\n",
       "       'DC Entertainment', 'Pixar', 'Radar Pictures', 'Jerry Bruckheimer',\n",
       "       'DreamWorks Animation', 'GK Films', 'Patalex IV',\n",
       "       'Marvel Enterprises', 'Blue Sky', '1492 Pictures',\n",
       "       'RatPac-Dune Entertainment', 'Spring Era', 'Lionsgate', 'Avi Arad',\n",
       "       'Legendary Entertainment', 'Sunswept Entertainment',\n",
       "       'Centropolis Entertainment', 'Heyday Films', 'Columbia Pictures',\n",
       "       'Marvel Entertainment', 'Imagine Entertainment', 'Chris Morgan',\n",
       "       'Revolution Sun', 'Heineken Branded', 'Esperanto Filmoj',\n",
       "       'Zohar International', 'Summit Entertainment', 'TSG Entertainment',\n",
       "       'China Film', 'Spyglass Entertainment', '20th Century',\n",
       "       'Studio Babelsberg', 'DC\" Comics', 'Scott Free', 'GH Three',\n",
       "       'Original Film', 'The Donners', 'Babelsberg Film',\n",
       "       'Icon Productions', 'Littlestar', 'Fox 2000', 'Tom DeSanto/Don',\n",
       "       'Eon Productions', 'Parkes+MacDonald Image', 'Village Roadshow',\n",
       "       'Bona Film', 'Focus Features', 'Sony Pictures',\n",
       "       'Touchstone Pictures', \"Mel's Cite\", 'Wanda\" Pictures',\n",
       "       'Pacific Data', 'AKOM Production', 'Monarchy Enterprises',\n",
       "       'Apelles Entertainment', 'Pearl Studio', 'T2 Productions',\n",
       "       'Radiant Productions', 'Constant c', 'Roth Films', 'The Zanuck',\n",
       "       'Epsilon Motion', 'Nickelodeon Movies', 'Pit Bull',\n",
       "       'Hughes Entertainment', 'Lin Pictures', 'Zanuck/Brown Productions',\n",
       "       'Hasbro', 'Bad Robot', 'EuropaCorp', 'Virtual Studios',\n",
       "       'Cruise/Wagner Productions', 'Huanxi Media', 'WV Films',\n",
       "       'Working Title', 'Hoya Productions', 'Blue Wolf', 'Skydance Media',\n",
       "       'Thunder Road', 'Chernin Entertainment', 'Playtone',\n",
       "       'Wrigley ictures', 'The Weinstein', 'Silver Pictures', 'Gaumont',\n",
       "       'Tig Productions', 'Darren Star', 'Walden Media',\n",
       "       'The Kennedy/Marshall', '21 Laps', 'PolyGram Filmed',\n",
       "       'Kasdan Pictures', 'Double Dare', 'Secret Hideout',\n",
       "       'Twilight Productions', 'XM2 Productions', 'Troublemaker Studios',\n",
       "       'Selznick International', 'EMJAG Productions', 'Morgan Creek',\n",
       "       'U-Drive Productions', 'Edko Films', 'Kennedy Miller',\n",
       "       'Toho Company', 'Lightstorm Entertainment', 'Celador Films',\n",
       "       'Depth of', 'Regency Enterprises', 'Ontario Film',\n",
       "       'Cinergi Pictures', 'Notting Hill', 'Moving Picture',\n",
       "       'Neal Street', 'Tim Burton', 'Green Hat', 'Dentsu',\n",
       "       'Disruption Entertainment', 'Jerry Weintraub', 'CoMix Wave',\n",
       "       'Digital Image', 'Jinks/Cohen Company', 'United Artists',\n",
       "       'Spectrum Films', 'Mediastream Vierte', 'Carolco Pictures',\n",
       "       'The Mark', 'Ingenious Media', 'Parkes/MacDonald Productions',\n",
       "       'Dino De', 'Dark Horse', 'Studio Ghibli', 'NeoReel',\n",
       "       'Rox Productions', 'Kickstart', 'Hanna-Barbera Productions',\n",
       "       'Sunday Night', 'Don Simpson/Jerry', 'Kumar Mobiliengesellschaft',\n",
       "       'Tribeca Productions', 'Participant Media', 'Baltimore Spring',\n",
       "       'Juno Pix', 'Paramount Animation', 'St. Petersburg',\n",
       "       'Lakeshore Entertainment', 'Great Oaks', 'Evergreen Media',\n",
       "       'Kurtzman/Orci', 'Nu Image', 'Gracie Films', 'Golden Mean',\n",
       "       'Temple Hill', 'Screen Gems', 'Section Eight',\n",
       "       'Alcon Entertainment', 'Huayi Brothers', 'Escape Artists',\n",
       "       'Julia Phillips', 'Miramax', 'Atomic Monster', 'Flynn Picture',\n",
       "       'Mid Atlantic', 'Aamir Khan', 'Wanda Pictures', 'Winkler Films',\n",
       "       'Dovemead Films', 'TriStar Pictures', 'Global Medien',\n",
       "       'Eddie Murphy', 'Legend3D', 'Wardour Street', 'Management Company',\n",
       "       \"Eric's Boy\", 'Big Screen', 'Delphi Films', 'Appian Way',\n",
       "       'Joseph M.', 'Columbus 81', 'Wintergreen Productions',\n",
       "       'Vertigo Entertainment', 'ImageMovers', 'Avery Pix',\n",
       "       'Apatow Productions', 'Gotham Group', 'The Harvey', 'Castle Rock',\n",
       "       'Genre Films', 'Brad Grey', 'Atlas Entertainment',\n",
       "       'DreamWorks Pictures', 'Square Enix', 'Nimar Studios',\n",
       "       'Strong Heart/Demme', 'Good Universe', 'Mirage Enterprises',\n",
       "       'Vincent Newman', 'Matten Productions', 'Film Rites',\n",
       "       'Volcano Films', 'Waverly Films', 'Gordon Company', 'Four By',\n",
       "       'Pink Machine', 'Silver Bullet', 'K/O Camera', 'Beijing Enlight',\n",
       "       'Torridon Films', 'Wonderland Sound', 'Redwave Films',\n",
       "       'Shinework Media', 'Luck Road', 'Jersey Films',\n",
       "       'Monkeypaw Productions', 'RCS Video', 'Arka Media', 'Tiger Aspect',\n",
       "       'Annapurna Pictures', 'No Such', 'BenderSpink', 'Haxan Films',\n",
       "       'Limited Edition', 'Star Overseas', 'Krane Entertainment',\n",
       "       '5150 Action', 'Roger Birnbaum', 'David Brown',\n",
       "       'Mikona Productions', 'Kopelson Entertainment',\n",
       "       'Malpaso Productions', 'New Regency', 'Color Force',\n",
       "       'Robert Stigwood', 'Ardustry Entertainment', 'd-rights',\n",
       "       'Bristol Automotive', 'Loumolo &', 'Ground Control',\n",
       "       'Mandate Pictures', 'CJ Entertainment', 'Courtside Seats',\n",
       "       'Melampo Cinematografica', 'Ghostcorps', 'Crystal Sky',\n",
       "       'Beijing Mahua', 'UniversalcPictures', 'Virgin Produced',\n",
       "       'BNP Paribas', 'Hiett Designs', 'Geffen Pictures', 'TF1',\n",
       "       'Buena Vista', 'Fellowship Adventure', 'Peters Entertainment',\n",
       "       'Twisted Media', 'Penn Station', 'Great American',\n",
       "       'Karz Entertainment', 'Smart Entertainment', 'American Zoetrope',\n",
       "       'Global Entertainment', 'Junction Entertainment', 'Davis-Films',\n",
       "       'Metro-Goldwyn-Mayer', 'Baltimore Pictures', 'Icon Entertainment',\n",
       "       'Fountainbridge Films', 'Beacon Communications', 'Bazmark Films',\n",
       "       'Babieka', 'USA Films', 'Clinica Estetico', 'LHF Film',\n",
       "       'Ixtlan Productions', 'Iron Horse', 'JC 23', 'Red Om',\n",
       "       'Relativity Media', 'Offspring Entertainment', 'Cross Creek',\n",
       "       'Davis Entertainment', 'Cinesite Animation', 'Broken Chair',\n",
       "       'Stephen J.', 'Fortis Films', 'Happy Madison',\n",
       "       'Rekall Productions', 'Enlight Pictures', 'Kerner Entertainment',\n",
       "       'Dimension Films', 'LBI Productions', 'Goldcrest Pictures',\n",
       "       'Rocket Pictures', 'Aardman Animations', 'Filmko Pictures',\n",
       "       'Blumhouse Productions', 'Lonetree Entertainment', 'Scott Rudin',\n",
       "       'Callahan Filmworks', 'Robert Simonds', 'Mace Neufeld',\n",
       "       'Universe Films', 'Ten Thirteen', '东阳坏猴子影视文化传播有限公司',\n",
       "       'Forward Pass', 'Wildwood Enterprises', 'Mars Media',\n",
       "       'DisneyToon Studios', 'Parallel Zide', '40 Acres', 'Gold Circle',\n",
       "       'STX Entertainment', 'Anarchos Productions', 'Hey Eddie',\n",
       "       'Misher Films', 'Doom Buggy', 'Caravan Pictures', 'Mosaic Media',\n",
       "       'Campbell Grobman', 'Red Granite', 'Permut Presentations',\n",
       "       'JD Productions', 'Mandeville Films', 'Pacific Western',\n",
       "       'Good Machine', 'Uncharted', 'Touchstone', 'Beijing New',\n",
       "       'Follow Through', 'Phoenix Film', 'Spring Creek', 'Ram Bergman',\n",
       "       'De Line', 'Two Ton', 'Imperative Entertainment',\n",
       "       'Stuber Productions', 'Strike Entertainment', 'France 3',\n",
       "       'Film Fireworks', 'Gary Sanchez', 'Reliance Entertainment',\n",
       "       'Woods Entertainment', 'Fox Searchlight', 'Boxing Cat',\n",
       "       'Liberty Pictures', 'MTV Films', 'Paramount Vantage',\n",
       "       'Interscope Communications', 'South Side', 'Weying Galaxy',\n",
       "       'Stage 6', 'Prospect Park', 'WR Universal', 'Right of',\n",
       "       'Propaganda Films'], dtype=object)"
      ]
     },
     "execution_count": 5,
     "metadata": {},
     "output_type": "execute_result"
    }
   ],
   "source": [
    "df['Production_Company'].unique()"
   ]
  },
  {
   "cell_type": "code",
   "execution_count": 6,
   "metadata": {},
   "outputs": [
    {
     "data": {
      "text/plain": [
       "Walt Disney                  64\n",
       "Universal Pictures           61\n",
       "Paramount                    48\n",
       "Columbia Pictures            39\n",
       "DreamWorks Animation         28\n",
       "Marvel Studios               23\n",
       "New Line                     20\n",
       "Pixar                        19\n",
       "Warner Bros.                 14\n",
       "Legendary Entertainment      14\n",
       "Touchstone Pictures          14\n",
       "Village Roadshow             13\n",
       "Lucasfilm                    13\n",
       "Miramax                      12\n",
       "Blue Sky                     11\n",
       "Summit Entertainment         11\n",
       "Amblin Entertainment         11\n",
       "Dune Entertainment           10\n",
       "TriStar Pictures              8\n",
       "Fox 2000                      8\n",
       "20th Century                  7\n",
       "DC Comics                     7\n",
       "Jerry Bruckheimer             6\n",
       "Marvel Enterprises            6\n",
       "RatPac-Dune Entertainment     6\n",
       "Name: Production_Company, dtype: int64"
      ]
     },
     "execution_count": 6,
     "metadata": {},
     "output_type": "execute_result"
    }
   ],
   "source": [
    "df['Production_Company'].value_counts().head(25) \n",
    "#Top 25 because Microsoft wants to be in the top 10, thus a conservative figure in case of failure"
   ]
  },
  {
   "cell_type": "code",
   "execution_count": 7,
   "metadata": {},
   "outputs": [
    {
     "name": "stderr",
     "output_type": "stream",
     "text": [
      "/opt/anaconda3/lib/python3.7/site-packages/seaborn/_decorators.py:43: FutureWarning: Pass the following variables as keyword args: x, y. From version 0.12, the only valid positional argument will be `data`, and passing other arguments without an explicit keyword will result in an error or misinterpretation.\n",
      "  FutureWarning\n"
     ]
    },
    {
     "data": {
      "image/png": "[encoded data removed]",
      "text/plain": [
       "<Figure size 720x360 with 1 Axes>"
      ]
     },
     "metadata": {
      "needs_background": "light"
     },
     "output_type": "display_data"
    }
   ],
   "source": [
    "#Created graph to display top competitors in the industry, per amount of films made\n",
    "top_25_competitors_per_films_made  = df['Production_Company'].value_counts()\n",
    "top_25_competitors_per_films_made = top_25_competitors_per_films_made[:25,]\n",
    "plt.figure(figsize=(10,5))\n",
    "sns.barplot(top_25_competitors_per_films_made.index, top_25_competitors_per_films_made.values, alpha=1)\n",
    "plt.title('Top 25 Movie Studios (Per Films Made)')\n",
    "plt.ylabel('Number of Films made', fontsize=12)\n",
    "plt.xlabel('Name of Production Companies', fontsize=12)\n",
    "plt.xticks(rotation=-90)\n",
    "plt.show()"
   ]
  },
  {
   "cell_type": "markdown",
   "metadata": {},
   "source": [
    "# Question 1\n",
    "## Who are the competitors?\n",
    "### The top 25 competitors are shown above. "
   ]
  },
  {
   "cell_type": "code",
   "execution_count": 8,
   "metadata": {},
   "outputs": [
    {
     "data": {
      "text/plain": [
       "count    25.000000\n",
       "mean     18.920000\n",
       "std      16.625583\n",
       "min       6.000000\n",
       "25%       8.000000\n",
       "50%      13.000000\n",
       "75%      20.000000\n",
       "max      64.000000\n",
       "Name: Production_Company, dtype: float64"
      ]
     },
     "execution_count": 8,
     "metadata": {},
     "output_type": "execute_result"
    }
   ],
   "source": [
    "top_25_competitors_per_films_made.describe()"
   ]
  },
  {
   "cell_type": "code",
   "execution_count": 9,
   "metadata": {},
   "outputs": [
    {
     "data": {
      "text/html": [
       "<div>\n",
       "<style scoped>\n",
       "    .dataframe tbody tr th:only-of-type {\n",
       "        vertical-align: middle;\n",
       "    }\n",
       "\n",
       "    .dataframe tbody tr th {\n",
       "        vertical-align: top;\n",
       "    }\n",
       "\n",
       "    .dataframe thead th {\n",
       "        text-align: right;\n",
       "    }\n",
       "</style>\n",
       "<table border=\"1\" class=\"dataframe\">\n",
       "  <thead>\n",
       "    <tr style=\"text-align: right;\">\n",
       "      <th></th>\n",
       "      <th>Worldwide_Lifetime_Gross</th>\n",
       "      <th>Domestic_Lifetime_Gross</th>\n",
       "      <th>Foreign_Lifetime_Gross</th>\n",
       "      <th>Year</th>\n",
       "      <th>Budget</th>\n",
       "      <th>Popularity</th>\n",
       "      <th>Runtime</th>\n",
       "    </tr>\n",
       "  </thead>\n",
       "  <tbody>\n",
       "    <tr>\n",
       "      <th>count</th>\n",
       "      <td>996.00</td>\n",
       "      <td>996.00</td>\n",
       "      <td>996.00</td>\n",
       "      <td>996.00</td>\n",
       "      <td>996.00</td>\n",
       "      <td>996.00</td>\n",
       "      <td>996.00</td>\n",
       "    </tr>\n",
       "    <tr>\n",
       "      <th>mean</th>\n",
       "      <td>394625537.62</td>\n",
       "      <td>153923288.68</td>\n",
       "      <td>240702248.94</td>\n",
       "      <td>2006.72</td>\n",
       "      <td>88804741.09</td>\n",
       "      <td>22.42</td>\n",
       "      <td>116.90</td>\n",
       "    </tr>\n",
       "    <tr>\n",
       "      <th>std</th>\n",
       "      <td>289016767.69</td>\n",
       "      <td>107241584.87</td>\n",
       "      <td>202317931.73</td>\n",
       "      <td>10.06</td>\n",
       "      <td>62001239.44</td>\n",
       "      <td>12.73</td>\n",
       "      <td>21.45</td>\n",
       "    </tr>\n",
       "    <tr>\n",
       "      <th>min</th>\n",
       "      <td>165615285.00</td>\n",
       "      <td>6752.00</td>\n",
       "      <td>0.00</td>\n",
       "      <td>1937.00</td>\n",
       "      <td>0.00</td>\n",
       "      <td>0.74</td>\n",
       "      <td>70.00</td>\n",
       "    </tr>\n",
       "    <tr>\n",
       "      <th>25%</th>\n",
       "      <td>213941302.25</td>\n",
       "      <td>89747541.75</td>\n",
       "      <td>116217257.75</td>\n",
       "      <td>2001.00</td>\n",
       "      <td>40000000.00</td>\n",
       "      <td>14.94</td>\n",
       "      <td>101.00</td>\n",
       "    </tr>\n",
       "    <tr>\n",
       "      <th>50%</th>\n",
       "      <td>297360619.00</td>\n",
       "      <td>126973931.50</td>\n",
       "      <td>178943013.00</td>\n",
       "      <td>2009.00</td>\n",
       "      <td>75500000.00</td>\n",
       "      <td>19.84</td>\n",
       "      <td>115.00</td>\n",
       "    </tr>\n",
       "    <tr>\n",
       "      <th>75%</th>\n",
       "      <td>456483935.25</td>\n",
       "      <td>183472336.00</td>\n",
       "      <td>286578236.75</td>\n",
       "      <td>2014.00</td>\n",
       "      <td>130000000.00</td>\n",
       "      <td>26.59</td>\n",
       "      <td>129.00</td>\n",
       "    </tr>\n",
       "    <tr>\n",
       "      <th>max</th>\n",
       "      <td>2797800564.00</td>\n",
       "      <td>936662225.00</td>\n",
       "      <td>2029931375.00</td>\n",
       "      <td>2020.00</td>\n",
       "      <td>380000000.00</td>\n",
       "      <td>108.25</td>\n",
       "      <td>233.00</td>\n",
       "    </tr>\n",
       "  </tbody>\n",
       "</table>\n",
       "</div>"
      ],
      "text/plain": [
       "       Worldwide_Lifetime_Gross  Domestic_Lifetime_Gross  \\\n",
       "count                    996.00                   996.00   \n",
       "mean               394625537.62             153923288.68   \n",
       "std                289016767.69             107241584.87   \n",
       "min                165615285.00                  6752.00   \n",
       "25%                213941302.25              89747541.75   \n",
       "50%                297360619.00             126973931.50   \n",
       "75%                456483935.25             183472336.00   \n",
       "max               2797800564.00             936662225.00   \n",
       "\n",
       "       Foreign_Lifetime_Gross    Year       Budget  Popularity  Runtime  \n",
       "count                  996.00  996.00       996.00      996.00   996.00  \n",
       "mean             240702248.94 2006.72  88804741.09       22.42   116.90  \n",
       "std              202317931.73   10.06  62001239.44       12.73    21.45  \n",
       "min                      0.00 1937.00         0.00        0.74    70.00  \n",
       "25%              116217257.75 2001.00  40000000.00       14.94   101.00  \n",
       "50%              178943013.00 2009.00  75500000.00       19.84   115.00  \n",
       "75%              286578236.75 2014.00 130000000.00       26.59   129.00  \n",
       "max             2029931375.00 2020.00 380000000.00      108.25   233.00  "
      ]
     },
     "execution_count": 9,
     "metadata": {},
     "output_type": "execute_result"
    }
   ],
   "source": [
    "pd.options.display.float_format = \"{:.2f}\".format #Needed in order to view the entirety of the number\n",
    "\n",
    "df.describe() "
   ]
  },
  {
   "cell_type": "code",
   "execution_count": 10,
   "metadata": {},
   "outputs": [
    {
     "data": {
      "text/html": [
       "<div>\n",
       "<style scoped>\n",
       "    .dataframe tbody tr th:only-of-type {\n",
       "        vertical-align: middle;\n",
       "    }\n",
       "\n",
       "    .dataframe tbody tr th {\n",
       "        vertical-align: top;\n",
       "    }\n",
       "\n",
       "    .dataframe thead th {\n",
       "        text-align: right;\n",
       "    }\n",
       "</style>\n",
       "<table border=\"1\" class=\"dataframe\">\n",
       "  <thead>\n",
       "    <tr style=\"text-align: right;\">\n",
       "      <th></th>\n",
       "      <th>Title</th>\n",
       "      <th>Worldwide_Lifetime_Gross</th>\n",
       "      <th>Domestic_Lifetime_Gross</th>\n",
       "      <th>Domestic_Percentage</th>\n",
       "      <th>Foreign_Lifetime_Gross</th>\n",
       "      <th>Foreign_Lifetime_Percentage</th>\n",
       "      <th>Year</th>\n",
       "      <th>IMDB_ID</th>\n",
       "      <th>Belongs_To_Collection</th>\n",
       "      <th>Budget</th>\n",
       "      <th>Genres</th>\n",
       "      <th>Original_Language</th>\n",
       "      <th>Popularity</th>\n",
       "      <th>Release_date</th>\n",
       "      <th>Runtime</th>\n",
       "      <th>Production_Company</th>\n",
       "      <th>Net_Profit</th>\n",
       "    </tr>\n",
       "  </thead>\n",
       "  <tbody>\n",
       "    <tr>\n",
       "      <th>0</th>\n",
       "      <td>Avengers: Endgame</td>\n",
       "      <td>2797800564</td>\n",
       "      <td>858373000</td>\n",
       "      <td>30.7%</td>\n",
       "      <td>1939427564</td>\n",
       "      <td>69.3%</td>\n",
       "      <td>2019</td>\n",
       "      <td>tt4154796</td>\n",
       "      <td>86311</td>\n",
       "      <td>356000000</td>\n",
       "      <td>'Adventure'</td>\n",
       "      <td>en</td>\n",
       "      <td>41.24</td>\n",
       "      <td>2019-04-24</td>\n",
       "      <td>181.00</td>\n",
       "      <td>Marvel Studios</td>\n",
       "      <td>2441800564</td>\n",
       "    </tr>\n",
       "    <tr>\n",
       "      <th>1</th>\n",
       "      <td>Avatar</td>\n",
       "      <td>2790439000</td>\n",
       "      <td>760507625</td>\n",
       "      <td>27.2%</td>\n",
       "      <td>2029931375</td>\n",
       "      <td>72.8%</td>\n",
       "      <td>2009</td>\n",
       "      <td>tt0499549</td>\n",
       "      <td>87096</td>\n",
       "      <td>237000000</td>\n",
       "      <td>'Action'</td>\n",
       "      <td>en</td>\n",
       "      <td>40.10</td>\n",
       "      <td>2009-12-10</td>\n",
       "      <td>162.00</td>\n",
       "      <td>Dune Entertainment</td>\n",
       "      <td>2553439000</td>\n",
       "    </tr>\n",
       "    <tr>\n",
       "      <th>2</th>\n",
       "      <td>Titanic</td>\n",
       "      <td>2194439542</td>\n",
       "      <td>659363944</td>\n",
       "      <td>30%</td>\n",
       "      <td>1535075598</td>\n",
       "      <td>70%</td>\n",
       "      <td>1997</td>\n",
       "      <td>tt0120338</td>\n",
       "      <td>No Collection</td>\n",
       "      <td>200000000</td>\n",
       "      <td>'Drama'</td>\n",
       "      <td>en</td>\n",
       "      <td>33.66</td>\n",
       "      <td>1997-11-18</td>\n",
       "      <td>194.00</td>\n",
       "      <td>Paramount</td>\n",
       "      <td>1994439542</td>\n",
       "    </tr>\n",
       "    <tr>\n",
       "      <th>3</th>\n",
       "      <td>Star Wars: Episode VII - The Force Awakens</td>\n",
       "      <td>2068223624</td>\n",
       "      <td>936662225</td>\n",
       "      <td>45.3%</td>\n",
       "      <td>1131561399</td>\n",
       "      <td>54.7%</td>\n",
       "      <td>2015</td>\n",
       "      <td>tt2488496</td>\n",
       "      <td>10</td>\n",
       "      <td>245000000</td>\n",
       "      <td>'Action'</td>\n",
       "      <td>en</td>\n",
       "      <td>40.45</td>\n",
       "      <td>2015-12-15</td>\n",
       "      <td>136.00</td>\n",
       "      <td>Truenorth Productions</td>\n",
       "      <td>1823223624</td>\n",
       "    </tr>\n",
       "    <tr>\n",
       "      <th>4</th>\n",
       "      <td>Avengers: Infinity War</td>\n",
       "      <td>2048359754</td>\n",
       "      <td>678815482</td>\n",
       "      <td>33.1%</td>\n",
       "      <td>1369544272</td>\n",
       "      <td>66.9%</td>\n",
       "      <td>2018</td>\n",
       "      <td>tt4154756</td>\n",
       "      <td>86311</td>\n",
       "      <td>300000000</td>\n",
       "      <td>'Adventure'</td>\n",
       "      <td>en</td>\n",
       "      <td>66.38</td>\n",
       "      <td>2018-04-25</td>\n",
       "      <td>149.00</td>\n",
       "      <td>Marvel Studios</td>\n",
       "      <td>1748359754</td>\n",
       "    </tr>\n",
       "    <tr>\n",
       "      <th>...</th>\n",
       "      <td>...</td>\n",
       "      <td>...</td>\n",
       "      <td>...</td>\n",
       "      <td>...</td>\n",
       "      <td>...</td>\n",
       "      <td>...</td>\n",
       "      <td>...</td>\n",
       "      <td>...</td>\n",
       "      <td>...</td>\n",
       "      <td>...</td>\n",
       "      <td>...</td>\n",
       "      <td>...</td>\n",
       "      <td>...</td>\n",
       "      <td>...</td>\n",
       "      <td>...</td>\n",
       "      <td>...</td>\n",
       "      <td>...</td>\n",
       "    </tr>\n",
       "    <tr>\n",
       "      <th>991</th>\n",
       "      <td>Magic Mike</td>\n",
       "      <td>167739368</td>\n",
       "      <td>113721571</td>\n",
       "      <td>67.8%</td>\n",
       "      <td>54017797</td>\n",
       "      <td>32.2%</td>\n",
       "      <td>2012</td>\n",
       "      <td>tt1915581</td>\n",
       "      <td>328247</td>\n",
       "      <td>7000000</td>\n",
       "      <td>'Drama'</td>\n",
       "      <td>en</td>\n",
       "      <td>11.87</td>\n",
       "      <td>2012-06-28</td>\n",
       "      <td>110.00</td>\n",
       "      <td>WR Universal</td>\n",
       "      <td>160739368</td>\n",
       "    </tr>\n",
       "    <tr>\n",
       "      <th>992</th>\n",
       "      <td>Alexander</td>\n",
       "      <td>167298192</td>\n",
       "      <td>34297191</td>\n",
       "      <td>20.5%</td>\n",
       "      <td>133001001</td>\n",
       "      <td>79.5%</td>\n",
       "      <td>2004</td>\n",
       "      <td>tt0346491</td>\n",
       "      <td>No Collection</td>\n",
       "      <td>155000000</td>\n",
       "      <td>'War'</td>\n",
       "      <td>en</td>\n",
       "      <td>21.08</td>\n",
       "      <td>2004-11-21</td>\n",
       "      <td>175.00</td>\n",
       "      <td>Right of</td>\n",
       "      <td>12298192</td>\n",
       "    </tr>\n",
       "    <tr>\n",
       "      <th>993</th>\n",
       "      <td>Up in the Air</td>\n",
       "      <td>166842739</td>\n",
       "      <td>83823381</td>\n",
       "      <td>50.2%</td>\n",
       "      <td>83019358</td>\n",
       "      <td>49.8%</td>\n",
       "      <td>2009</td>\n",
       "      <td>tt1193138</td>\n",
       "      <td>No Collection</td>\n",
       "      <td>25000000</td>\n",
       "      <td>'Drama'</td>\n",
       "      <td>en</td>\n",
       "      <td>14.90</td>\n",
       "      <td>2009-09-05</td>\n",
       "      <td>110.00</td>\n",
       "      <td>Universal Pictures</td>\n",
       "      <td>141842739</td>\n",
       "    </tr>\n",
       "    <tr>\n",
       "      <th>994</th>\n",
       "      <td>Nutty Professor II: The Klumps</td>\n",
       "      <td>166339890</td>\n",
       "      <td>123309890</td>\n",
       "      <td>74.1%</td>\n",
       "      <td>43030000</td>\n",
       "      <td>25.9%</td>\n",
       "      <td>2000</td>\n",
       "      <td>tt0144528</td>\n",
       "      <td>86028</td>\n",
       "      <td>84000000</td>\n",
       "      <td>'Fantasy'</td>\n",
       "      <td>en</td>\n",
       "      <td>12.95</td>\n",
       "      <td>2000-07-27</td>\n",
       "      <td>106.00</td>\n",
       "      <td>Propaganda Films</td>\n",
       "      <td>82339890</td>\n",
       "    </tr>\n",
       "    <tr>\n",
       "      <th>995</th>\n",
       "      <td>Sleepers</td>\n",
       "      <td>165615285</td>\n",
       "      <td>53315285</td>\n",
       "      <td>32.2%</td>\n",
       "      <td>112300000</td>\n",
       "      <td>67.8%</td>\n",
       "      <td>1996</td>\n",
       "      <td>tt0117665</td>\n",
       "      <td>No Collection</td>\n",
       "      <td>44000000</td>\n",
       "      <td>'Crime'</td>\n",
       "      <td>en</td>\n",
       "      <td>24.68</td>\n",
       "      <td>1996-10-18</td>\n",
       "      <td>147.00</td>\n",
       "      <td>Propaganda Films</td>\n",
       "      <td>121615285</td>\n",
       "    </tr>\n",
       "  </tbody>\n",
       "</table>\n",
       "<p>996 rows × 17 columns</p>\n",
       "</div>"
      ],
      "text/plain": [
       "                                          Title  Worldwide_Lifetime_Gross  \\\n",
       "0                             Avengers: Endgame                2797800564   \n",
       "1                                        Avatar                2790439000   \n",
       "2                                       Titanic                2194439542   \n",
       "3    Star Wars: Episode VII - The Force Awakens                2068223624   \n",
       "4                        Avengers: Infinity War                2048359754   \n",
       "..                                          ...                       ...   \n",
       "991                                  Magic Mike                 167739368   \n",
       "992                                   Alexander                 167298192   \n",
       "993                               Up in the Air                 166842739   \n",
       "994              Nutty Professor II: The Klumps                 166339890   \n",
       "995                                    Sleepers                 165615285   \n",
       "\n",
       "     Domestic_Lifetime_Gross Domestic_Percentage  Foreign_Lifetime_Gross  \\\n",
       "0                  858373000               30.7%              1939427564   \n",
       "1                  760507625               27.2%              2029931375   \n",
       "2                  659363944                 30%              1535075598   \n",
       "3                  936662225               45.3%              1131561399   \n",
       "4                  678815482               33.1%              1369544272   \n",
       "..                       ...                 ...                     ...   \n",
       "991                113721571               67.8%                54017797   \n",
       "992                 34297191               20.5%               133001001   \n",
       "993                 83823381               50.2%                83019358   \n",
       "994                123309890               74.1%                43030000   \n",
       "995                 53315285               32.2%               112300000   \n",
       "\n",
       "    Foreign_Lifetime_Percentage  Year    IMDB_ID Belongs_To_Collection  \\\n",
       "0                         69.3%  2019  tt4154796                 86311   \n",
       "1                         72.8%  2009  tt0499549                 87096   \n",
       "2                           70%  1997  tt0120338         No Collection   \n",
       "3                         54.7%  2015  tt2488496                    10   \n",
       "4                         66.9%  2018  tt4154756                 86311   \n",
       "..                          ...   ...        ...                   ...   \n",
       "991                       32.2%  2012  tt1915581                328247   \n",
       "992                       79.5%  2004  tt0346491         No Collection   \n",
       "993                       49.8%  2009  tt1193138         No Collection   \n",
       "994                       25.9%  2000  tt0144528                 86028   \n",
       "995                       67.8%  1996  tt0117665         No Collection   \n",
       "\n",
       "        Budget       Genres Original_Language  Popularity Release_date  \\\n",
       "0    356000000  'Adventure'                en       41.24   2019-04-24   \n",
       "1    237000000     'Action'                en       40.10   2009-12-10   \n",
       "2    200000000      'Drama'                en       33.66   1997-11-18   \n",
       "3    245000000     'Action'                en       40.45   2015-12-15   \n",
       "4    300000000  'Adventure'                en       66.38   2018-04-25   \n",
       "..         ...          ...               ...         ...          ...   \n",
       "991    7000000      'Drama'                en       11.87   2012-06-28   \n",
       "992  155000000        'War'                en       21.08   2004-11-21   \n",
       "993   25000000      'Drama'                en       14.90   2009-09-05   \n",
       "994   84000000    'Fantasy'                en       12.95   2000-07-27   \n",
       "995   44000000      'Crime'                en       24.68   1996-10-18   \n",
       "\n",
       "     Runtime     Production_Company  Net_Profit  \n",
       "0     181.00         Marvel Studios  2441800564  \n",
       "1     162.00     Dune Entertainment  2553439000  \n",
       "2     194.00              Paramount  1994439542  \n",
       "3     136.00  Truenorth Productions  1823223624  \n",
       "4     149.00         Marvel Studios  1748359754  \n",
       "..       ...                    ...         ...  \n",
       "991   110.00           WR Universal   160739368  \n",
       "992   175.00               Right of    12298192  \n",
       "993   110.00     Universal Pictures   141842739  \n",
       "994   106.00       Propaganda Films    82339890  \n",
       "995   147.00       Propaganda Films   121615285  \n",
       "\n",
       "[996 rows x 17 columns]"
      ]
     },
     "execution_count": 10,
     "metadata": {},
     "output_type": "execute_result"
    }
   ],
   "source": [
    "df['Net_Profit'] = df['Worldwide_Lifetime_Gross'] - df['Budget'] #Metric will be used to answer Q2\n",
    "df"
   ]
  },
  {
   "cell_type": "code",
   "execution_count": 11,
   "metadata": {},
   "outputs": [
    {
     "data": {
      "text/plain": [
       "Year\n",
       "1937      183437063\n",
       "1939      398352579\n",
       "1942      266589150\n",
       "1961      212026182\n",
       "1967      206310084\n",
       "1972      240120974\n",
       "1973      433306145\n",
       "1975      464203004\n",
       "1977     1285023714\n",
       "1978      804297173\n",
       "1979      176308099\n",
       "1980      529897454\n",
       "1981      372133212\n",
       "1982      939182178\n",
       "1983      442997111\n",
       "1984      873211516\n",
       "1985     1091771658\n",
       "1986      665034107\n",
       "1987      946579697\n",
       "1988     1777582800\n",
       "1989     2208466162\n",
       "1990     3112496982\n",
       "1991     2598434697\n",
       "1992     2862630625\n",
       "1993     3327203736\n",
       "1994     4451796441\n",
       "1995     4028848690\n",
       "1996     4035802704\n",
       "1997     6258116777\n",
       "1998     5032488541\n",
       "1999     6203492258\n",
       "2000     5158848652\n",
       "2001     7253331603\n",
       "2002     8131283166\n",
       "2003     7926153246\n",
       "2004     8570049238\n",
       "2005     7053272175\n",
       "2006     6469367210\n",
       "2007     9585596183\n",
       "2008    10479714324\n",
       "2009    12995366278\n",
       "2010    11835923304\n",
       "2011    13009354852\n",
       "2012    14835913352\n",
       "2013    14382382323\n",
       "2014    15076351736\n",
       "2015    17617012363\n",
       "2016    17577114163\n",
       "2017    20257446337\n",
       "2018    19950851906\n",
       "2019    19187996390\n",
       "2020      816043029\n",
       "Name: Net_Profit, dtype: int64"
      ]
     },
     "execution_count": 11,
     "metadata": {},
     "output_type": "execute_result"
    }
   ],
   "source": [
    "market_size = df.groupby('Year').Net_Profit.sum() #Gives us entire sum of Net Profit by year\n",
    "market_size"
   ]
  },
  {
   "cell_type": "code",
   "execution_count": 12,
   "metadata": {},
   "outputs": [
    {
     "name": "stderr",
     "output_type": "stream",
     "text": [
      "/opt/anaconda3/lib/python3.7/site-packages/seaborn/_decorators.py:43: FutureWarning: Pass the following variables as keyword args: x, y. From version 0.12, the only valid positional argument will be `data`, and passing other arguments without an explicit keyword will result in an error or misinterpretation.\n",
      "  FutureWarning\n"
     ]
    },
    {
     "data": {
      "image/png": "[encoded data removed]",
      "text/plain": [
       "<Figure size 720x360 with 1 Axes>"
      ]
     },
     "metadata": {
      "needs_background": "light"
     },
     "output_type": "display_data"
    }
   ],
   "source": [
    "#Created graph to display that market size & growth is increasing year by year\n",
    "market_size = df.groupby('Year').Net_Profit.sum()\n",
    "market_size = market_size[:,]\n",
    "plt.figure(figsize=(10,5))\n",
    "sns.regplot(market_size.index, market_size.values, color='g')\n",
    "plt.title('Market Size & Rate of Growth (Per Year)')\n",
    "plt.ylabel('Yearly Net Revenue ( 1 = $10 Billion)', fontsize=12)\n",
    "plt.xlabel('Year', fontsize=12)\n",
    "plt.show()"
   ]
  },
  {
   "cell_type": "markdown",
   "metadata": {},
   "source": [
    "# Question 2\n",
    "## What is the current size of the market?\n",
    "### The current size of the market over the last three years (2017-2019) is roughly 19.8 billion dollars. "
   ]
  },
  {
   "cell_type": "markdown",
   "metadata": {},
   "source": [
    "# Question 3\n",
    "## Is the market growing?\n",
    "### The market has been growing since 2009. However, amidst the COVID pandemic the overall growth rate has significantly slowed down in 2020 due to theaters being  closed for an extended period of time across the US."
   ]
  },
  {
   "cell_type": "code",
   "execution_count": 13,
   "metadata": {},
   "outputs": [
    {
     "data": {
      "text/plain": [
       "count            52.00\n",
       "mean     5857644487.37\n",
       "std      6146427150.08\n",
       "min       176308099.00\n",
       "25%       769481406.50\n",
       "50%      3678026213.00\n",
       "75%      8823935974.25\n",
       "max     20257446337.00\n",
       "Name: Net_Profit, dtype: float64"
      ]
     },
     "execution_count": 13,
     "metadata": {},
     "output_type": "execute_result"
    }
   ],
   "source": [
    "market_size.describe()"
   ]
  },
  {
   "cell_type": "code",
   "execution_count": 14,
   "metadata": {},
   "outputs": [
    {
     "data": {
      "text/plain": [
       "array([\"'Adventure'\", \"'Action'\", \"'Drama'\", \"'Science\", \"'Animation'\",\n",
       "       \"'Fantasy'\", \"'Family'\", \"'Crime'\", \"'War'\", \"'Thriller'\",\n",
       "       \"'Comedy'\", \"'Horror'\", \"'Mystery'\", \"'Romance'\", \"'Western'\",\n",
       "       \"'History'\", \"'Music'\", \"'Documentary'\"], dtype=object)"
      ]
     },
     "execution_count": 14,
     "metadata": {},
     "output_type": "execute_result"
    }
   ],
   "source": [
    "df['Genres'].unique() #There are 18 unique Genres"
   ]
  },
  {
   "cell_type": "code",
   "execution_count": 15,
   "metadata": {},
   "outputs": [
    {
     "data": {
      "text/plain": [
       "996"
      ]
     },
     "execution_count": 15,
     "metadata": {},
     "output_type": "execute_result"
    }
   ],
   "source": [
    "df['Genres'].count()"
   ]
  },
  {
   "cell_type": "code",
   "execution_count": 16,
   "metadata": {},
   "outputs": [
    {
     "data": {
      "text/plain": [
       "count          996\n",
       "unique          18\n",
       "top       'Action'\n",
       "freq           256\n",
       "Name: Genres, dtype: object"
      ]
     },
     "execution_count": 16,
     "metadata": {},
     "output_type": "execute_result"
    }
   ],
   "source": [
    "df['Genres'].describe()"
   ]
  },
  {
   "cell_type": "code",
   "execution_count": 17,
   "metadata": {},
   "outputs": [
    {
     "data": {
      "text/plain": [
       "pandas.core.series.Series"
      ]
     },
     "execution_count": 17,
     "metadata": {},
     "output_type": "execute_result"
    }
   ],
   "source": [
    "type(df['Genres'])"
   ]
  },
  {
   "cell_type": "code",
   "execution_count": 18,
   "metadata": {},
   "outputs": [
    {
     "data": {
      "text/plain": [
       "'Action'         256\n",
       "'Adventure'      166\n",
       "'Comedy'         155\n",
       "'Drama'          118\n",
       "'Animation'       78\n",
       "'Fantasy'         44\n",
       "'Thriller'        34\n",
       "'Science          32\n",
       "'Horror'          27\n",
       "'Crime'           24\n",
       "'Romance'         17\n",
       "'Family'          17\n",
       "'Mystery'         11\n",
       "'War'              6\n",
       "'History'          6\n",
       "'Music'            3\n",
       "'Documentary'      1\n",
       "'Western'          1\n",
       "Name: Genres, dtype: int64"
      ]
     },
     "execution_count": 18,
     "metadata": {},
     "output_type": "execute_result"
    }
   ],
   "source": [
    "df['Genres'].value_counts().head(25) #Getting the total sum for each Genre"
   ]
  },
  {
   "cell_type": "code",
   "execution_count": 19,
   "metadata": {},
   "outputs": [
    {
     "data": {
      "text/plain": [
       "Genres\n",
       "'Action'         84010000367\n",
       "'Adventure'      64969902532\n",
       "'Animation'      27262465809\n",
       "'Comedy'         33570990943\n",
       "'Crime'           5470903852\n",
       "'Documentary'      216446882\n",
       "'Drama'          29680466679\n",
       "'Family'          7361742140\n",
       "'Fantasy'        12335991660\n",
       "'History'         1580739872\n",
       "'Horror'          6800158998\n",
       "'Music'            564886061\n",
       "'Mystery'         2621744374\n",
       "'Romance'         4892038504\n",
       "'Science         13154543143\n",
       "'Thriller'        7526204806\n",
       "'War'             2180336218\n",
       "'Western'          397950503\n",
       "Name: Net_Profit, dtype: int64"
      ]
     },
     "execution_count": 19,
     "metadata": {},
     "output_type": "execute_result"
    }
   ],
   "source": [
    "net_profit_by_genre = df.groupby('Genres')['Net_Profit'].sum() #Created variable to make graph\n",
    "net_profit_by_genre"
   ]
  },
  {
   "cell_type": "code",
   "execution_count": 20,
   "metadata": {},
   "outputs": [
    {
     "name": "stderr",
     "output_type": "stream",
     "text": [
      "/opt/anaconda3/lib/python3.7/site-packages/seaborn/_decorators.py:43: FutureWarning: Pass the following variables as keyword args: x, y. From version 0.12, the only valid positional argument will be `data`, and passing other arguments without an explicit keyword will result in an error or misinterpretation.\n",
      "  FutureWarning\n"
     ]
    },
    {
     "data": {
      "image/png": "[encoded data removed]",
      "text/plain": [
       "<Figure size 720x360 with 1 Axes>"
      ]
     },
     "metadata": {
      "needs_background": "light"
     },
     "output_type": "display_data"
    }
   ],
   "source": [
    "#Created graph to determine what genre(s) generate greatest ROI\n",
    "net_profit_by_genre = net_profit_by_genre[:,]\n",
    "plt.figure(figsize=(10,5))\n",
    "sns.barplot(net_profit_by_genre.index, net_profit_by_genre.values, alpha=1)\n",
    "plt.title('Net Profit By Genre (Per Year)')\n",
    "plt.ylabel('Yearly Net Revenue ( 1 = $1 Billion)', fontsize=12)\n",
    "plt.xlabel('Genre', fontsize=12)\n",
    "plt.xticks(rotation=-90)\n",
    "plt.show()"
   ]
  },
  {
   "cell_type": "markdown",
   "metadata": {},
   "source": [
    "# Question 4\n",
    "## Which genre returns the greatest margin of return on investment(ROI)?\n",
    "### Action movie genre by a large margin return the greatest ROI. However, other genres like Adventure, Comedy, Drama, and Animation are very profitable as well."
   ]
  },
  {
   "cell_type": "code",
   "execution_count": 21,
   "metadata": {},
   "outputs": [
    {
     "data": {
      "text/html": [
       "<div>\n",
       "<style scoped>\n",
       "    .dataframe tbody tr th:only-of-type {\n",
       "        vertical-align: middle;\n",
       "    }\n",
       "\n",
       "    .dataframe tbody tr th {\n",
       "        vertical-align: top;\n",
       "    }\n",
       "\n",
       "    .dataframe thead th {\n",
       "        text-align: right;\n",
       "    }\n",
       "</style>\n",
       "<table border=\"1\" class=\"dataframe\">\n",
       "  <thead>\n",
       "    <tr style=\"text-align: right;\">\n",
       "      <th></th>\n",
       "      <th>Worldwide_Lifetime_Gross</th>\n",
       "      <th>Domestic_Lifetime_Gross</th>\n",
       "      <th>Foreign_Lifetime_Gross</th>\n",
       "      <th>Year</th>\n",
       "      <th>Budget</th>\n",
       "      <th>Popularity</th>\n",
       "      <th>Runtime</th>\n",
       "      <th>Net_Profit</th>\n",
       "    </tr>\n",
       "  </thead>\n",
       "  <tbody>\n",
       "    <tr>\n",
       "      <th>count</th>\n",
       "      <td>996.00</td>\n",
       "      <td>996.00</td>\n",
       "      <td>996.00</td>\n",
       "      <td>996.00</td>\n",
       "      <td>996.00</td>\n",
       "      <td>996.00</td>\n",
       "      <td>996.00</td>\n",
       "      <td>996.00</td>\n",
       "    </tr>\n",
       "    <tr>\n",
       "      <th>mean</th>\n",
       "      <td>394625537.62</td>\n",
       "      <td>153923288.68</td>\n",
       "      <td>240702248.94</td>\n",
       "      <td>2006.72</td>\n",
       "      <td>88804741.09</td>\n",
       "      <td>22.42</td>\n",
       "      <td>116.90</td>\n",
       "      <td>305820796.53</td>\n",
       "    </tr>\n",
       "    <tr>\n",
       "      <th>std</th>\n",
       "      <td>289016767.69</td>\n",
       "      <td>107241584.87</td>\n",
       "      <td>202317931.73</td>\n",
       "      <td>10.06</td>\n",
       "      <td>62001239.44</td>\n",
       "      <td>12.73</td>\n",
       "      <td>21.45</td>\n",
       "      <td>258909151.33</td>\n",
       "    </tr>\n",
       "    <tr>\n",
       "      <th>min</th>\n",
       "      <td>165615285.00</td>\n",
       "      <td>6752.00</td>\n",
       "      <td>0.00</td>\n",
       "      <td>1937.00</td>\n",
       "      <td>0.00</td>\n",
       "      <td>0.74</td>\n",
       "      <td>70.00</td>\n",
       "      <td>-559276.00</td>\n",
       "    </tr>\n",
       "    <tr>\n",
       "      <th>25%</th>\n",
       "      <td>213941302.25</td>\n",
       "      <td>89747541.75</td>\n",
       "      <td>116217257.75</td>\n",
       "      <td>2001.00</td>\n",
       "      <td>40000000.00</td>\n",
       "      <td>14.94</td>\n",
       "      <td>101.00</td>\n",
       "      <td>152308571.75</td>\n",
       "    </tr>\n",
       "    <tr>\n",
       "      <th>50%</th>\n",
       "      <td>297360619.00</td>\n",
       "      <td>126973931.50</td>\n",
       "      <td>178943013.00</td>\n",
       "      <td>2009.00</td>\n",
       "      <td>75500000.00</td>\n",
       "      <td>19.84</td>\n",
       "      <td>115.00</td>\n",
       "      <td>224582469.50</td>\n",
       "    </tr>\n",
       "    <tr>\n",
       "      <th>75%</th>\n",
       "      <td>456483935.25</td>\n",
       "      <td>183472336.00</td>\n",
       "      <td>286578236.75</td>\n",
       "      <td>2014.00</td>\n",
       "      <td>130000000.00</td>\n",
       "      <td>26.59</td>\n",
       "      <td>129.00</td>\n",
       "      <td>364237141.25</td>\n",
       "    </tr>\n",
       "    <tr>\n",
       "      <th>max</th>\n",
       "      <td>2797800564.00</td>\n",
       "      <td>936662225.00</td>\n",
       "      <td>2029931375.00</td>\n",
       "      <td>2020.00</td>\n",
       "      <td>380000000.00</td>\n",
       "      <td>108.25</td>\n",
       "      <td>233.00</td>\n",
       "      <td>2553439000.00</td>\n",
       "    </tr>\n",
       "  </tbody>\n",
       "</table>\n",
       "</div>"
      ],
      "text/plain": [
       "       Worldwide_Lifetime_Gross  Domestic_Lifetime_Gross  \\\n",
       "count                    996.00                   996.00   \n",
       "mean               394625537.62             153923288.68   \n",
       "std                289016767.69             107241584.87   \n",
       "min                165615285.00                  6752.00   \n",
       "25%                213941302.25              89747541.75   \n",
       "50%                297360619.00             126973931.50   \n",
       "75%                456483935.25             183472336.00   \n",
       "max               2797800564.00             936662225.00   \n",
       "\n",
       "       Foreign_Lifetime_Gross    Year       Budget  Popularity  Runtime  \\\n",
       "count                  996.00  996.00       996.00      996.00   996.00   \n",
       "mean             240702248.94 2006.72  88804741.09       22.42   116.90   \n",
       "std              202317931.73   10.06  62001239.44       12.73    21.45   \n",
       "min                      0.00 1937.00         0.00        0.74    70.00   \n",
       "25%              116217257.75 2001.00  40000000.00       14.94   101.00   \n",
       "50%              178943013.00 2009.00  75500000.00       19.84   115.00   \n",
       "75%              286578236.75 2014.00 130000000.00       26.59   129.00   \n",
       "max             2029931375.00 2020.00 380000000.00      108.25   233.00   \n",
       "\n",
       "         Net_Profit  \n",
       "count        996.00  \n",
       "mean   305820796.53  \n",
       "std    258909151.33  \n",
       "min      -559276.00  \n",
       "25%    152308571.75  \n",
       "50%    224582469.50  \n",
       "75%    364237141.25  \n",
       "max   2553439000.00  "
      ]
     },
     "execution_count": 21,
     "metadata": {},
     "output_type": "execute_result"
    }
   ],
   "source": [
    "df.describe()"
   ]
  },
  {
   "cell_type": "code",
   "execution_count": 22,
   "metadata": {},
   "outputs": [
    {
     "data": {
      "text/plain": [
       "<matplotlib.axes._subplots.AxesSubplot at 0x7fddca0bc910>"
      ]
     },
     "execution_count": 22,
     "metadata": {},
     "output_type": "execute_result"
    },
    {
     "data": {
      "image/png": "[encoded data removed]",
      "text/plain": [
       "<Figure size 432x288 with 2 Axes>"
      ]
     },
     "metadata": {
      "needs_background": "light"
     },
     "output_type": "display_data"
    }
   ],
   "source": [
    "sns.heatmap(df.corr()) #What indexes is correlated, or not, & why"
   ]
  },
  {
   "cell_type": "markdown",
   "metadata": {},
   "source": [
    "# Question 5\n",
    "## Is there a correlation between budget and worldwide lifetime gross?\n",
    "### There is a positive correlation between budget and worldwide lifetime gross, however interestingly there is more of a correlation between budget and foreign gross than budget and domestic gross. "
   ]
  },
  {
   "cell_type": "code",
   "execution_count": 23,
   "metadata": {},
   "outputs": [
    {
     "data": {
      "text/plain": [
       "Belongs_To_Collection\n",
       "10                 7718567627\n",
       "1006                512955729\n",
       "100693              212026182\n",
       "100965               66053725\n",
       "10194              2547004510\n",
       "                     ...     \n",
       "97459               372613843\n",
       "97461               193144151\n",
       "9888                806218046\n",
       "99727               217092173\n",
       "No Collection    106281804956\n",
       "Name: Net_Profit, Length: 264, dtype: int64"
      ]
     },
     "execution_count": 23,
     "metadata": {},
     "output_type": "execute_result"
    }
   ],
   "source": [
    "net_profit_by_collection = df.groupby('Belongs_To_Collection')['Net_Profit'].sum()\n",
    "net_profit_by_collection"
   ]
  },
  {
   "cell_type": "code",
   "execution_count": 24,
   "metadata": {},
   "outputs": [
    {
     "data": {
      "text/plain": [
       "No Collection    475\n",
       "10                 9\n",
       "645                9\n",
       "9485               8\n",
       "1241               8\n",
       "                ... \n",
       "696630             1\n",
       "63043              1\n",
       "93220              1\n",
       "393379             1\n",
       "531315             1\n",
       "Name: Belongs_To_Collection, Length: 264, dtype: int64"
      ]
     },
     "execution_count": 24,
     "metadata": {},
     "output_type": "execute_result"
    }
   ],
   "source": [
    "df['Belongs_To_Collection'].value_counts()"
   ]
  },
  {
   "cell_type": "code",
   "execution_count": 25,
   "metadata": {},
   "outputs": [
    {
     "data": {
      "text/plain": [
       "996"
      ]
     },
     "execution_count": 25,
     "metadata": {},
     "output_type": "execute_result"
    }
   ],
   "source": [
    "df['Belongs_To_Collection'].count()"
   ]
  },
  {
   "cell_type": "code",
   "execution_count": 26,
   "metadata": {},
   "outputs": [
    {
     "name": "stderr",
     "output_type": "stream",
     "text": [
      "/opt/anaconda3/lib/python3.7/site-packages/seaborn/_decorators.py:43: FutureWarning: Pass the following variables as keyword args: x, y. From version 0.12, the only valid positional argument will be `data`, and passing other arguments without an explicit keyword will result in an error or misinterpretation.\n",
      "  FutureWarning\n"
     ]
    },
    {
     "data": {
      "image/png": "[encoded data removed]",
      "text/plain": [
       "<Figure size 720x360 with 1 Axes>"
      ]
     },
     "metadata": {
      "needs_background": "light"
     },
     "output_type": "display_data"
    }
   ],
   "source": [
    "#Wanted to compare Net Revenue of movies that belong to collection to those that don't\n",
    "net_profit_by_collection = net_profit_by_collection[:25,]\n",
    "plt.figure(figsize=(10,5))\n",
    "sns.lineplot(net_profit_by_collection.index, net_profit_by_collection.values)\n",
    "plt.title('Net Profit By Collection (Per Year)')\n",
    "plt.ylabel('Yearly Net Revenue ( 1 = $1 Billion)', fontsize=12)\n",
    "plt.xlabel('Collection', fontsize=12)\n",
    "plt.xticks(rotation=-90)\n",
    "plt.show()"
   ]
  },
  {
   "cell_type": "markdown",
   "metadata": {},
   "source": [
    "# Question 6\n",
    "## Is it more profitable to create movies that belong to a collection?"
   ]
  },
  {
   "cell_type": "markdown",
   "metadata": {},
   "source": [
    "# Approach to the Project\n",
    "My inital approach was to utilize the data given to us within this repo, however it was not up to date. As such I decided it best to get more up to date information as well as use the skills gained over the past weeks via web scraping and API calling. Furthermore, after the data was collected and merged it was time to clean/manipulate the data with the tools I've gained from using pandas. After the data was cleaned and manipulated to my liking I approached making visualizations based off of questions I had brainstormed prior. Thus, my visuals are a direct correlation between my thought process and what Microsoft would like to see. After creating the visuals I still had questions I wanted to answer but determined it best to create google slide as well as finish the read.md.   \n"
   ]
  },
  {
   "cell_type": "markdown",
   "metadata": {},
   "source": [
    "# Conclusion\n",
    "Based upon my intepretation of the data and use of visuals Microsoft should enter the movie studio business.\n",
    "Their number one priority should be to make action movies as it is the most profitable genre. Also, they should utilize proprietary technologies and resources to create movies. While, action movies are the most profitable and typically require CGI nowadays, among the top 5 profitable genres are animation movies as well. Microsoft should make movies that focus on a global audience to obtain a greater overall net revenue.The market trajectory is growing and with movie theaters opening up soon, the customer base will look to seek entertainment. Now is the time to develop movies as the customer base is vigorously awaiting the return of movies on the big screen. Microsoft should adapt/create a cinematic franchise, or at the very least create movies with sequels/prequels. Ideally buying out, but could also enter a licensing agreement to adapt an obscure, yet has a cult-like following, comic-book/video game series.\n"
   ]
  },
  {
   "cell_type": "code",
   "execution_count": null,
   "metadata": {},
   "outputs": [],
   "source": []
  }
 ],
 "metadata": {
  "kernelspec": {
   "display_name": "Python 3",
   "language": "python",
   "name": "python3"
  },
  "language_info": {
   "codemirror_mode": {
    "name": "ipython",
    "version": 3
   },
   "file_extension": ".py",
   "mimetype": "text/x-python",
   "name": "python",
   "nbconvert_exporter": "python",
   "pygments_lexer": "ipython3",
   "version": "3.7.6"
  }
 },
 "nbformat": 4,
 "nbformat_minor": 2
}
